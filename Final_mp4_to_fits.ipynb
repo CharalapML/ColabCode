{
  "nbformat": 4,
  "nbformat_minor": 0,
  "metadata": {
    "colab": {
      "provenance": [],
      "authorship_tag": "ABX9TyOOEeYjmYFmLPDehtb53T6Q",
      "include_colab_link": true
    },
    "kernelspec": {
      "name": "python3",
      "display_name": "Python 3"
    },
    "language_info": {
      "name": "python"
    }
  },
  "cells": [
    {
      "cell_type": "markdown",
      "metadata": {
        "id": "view-in-github",
        "colab_type": "text"
      },
      "source": [
        "<a href=\"https://colab.research.google.com/github/CharalapML/ColabCode/blob/main/Final_mp4_to_fits.ipynb\" target=\"_parent\"><img src=\"https://colab.research.google.com/assets/colab-badge.svg\" alt=\"Open In Colab\"/></a>"
      ]
    },
    {
      "cell_type": "markdown",
      "source": [
        "# **The following code was written to convert mp4 files to .fit files**"
      ],
      "metadata": {
        "id": "87SFQkFbE5AN"
      }
    },
    {
      "cell_type": "markdown",
      "source": [
        "**The reason for this was on using my SeeStar astonomical scope I produced some mp4 files which I needed to convert to the more standeard .fit files used in astronomical circles.**\n",
        "\n",
        "**I could not find anything freely available. Yes there are commercial products but I did not want to have to sign up for a commercial product.**\n",
        "\n",
        "**Hence this code.**"
      ],
      "metadata": {
        "id": "yNPldtApFl30"
      }
    },
    {
      "cell_type": "markdown",
      "source": [
        "**NB this code takes an mp4 file and produces a series of .jpg images.\n",
        "This arguably reduces image quality as it compresses data. The code then converts the .jpg images to a series of .fit files which I have been able to import to astronomical software.**"
      ],
      "metadata": {
        "id": "C3Cv20HcGIIz"
      }
    },
    {
      "cell_type": "code",
      "execution_count": null,
      "metadata": {
        "colab": {
          "base_uri": "https://localhost:8080/"
        },
        "id": "bZYAR0YzbBlE",
        "outputId": "e44310e8-ccaf-49f4-cb35-b3ebc442d910"
      },
      "outputs": [
        {
          "output_type": "stream",
          "name": "stdout",
          "text": [
            "Drive already mounted at /content/gdrive; to attempt to forcibly remount, call drive.mount(\"/content/gdrive\", force_remount=True).\n"
          ]
        }
      ],
      "source": [
        "from google.colab import drive\n",
        "drive.mount('/content/gdrive')"
      ]
    },
    {
      "cell_type": "code",
      "source": [
        "from PIL import Image\n",
        "import os\n",
        "import cv2\n",
        "import io"
      ],
      "metadata": {
        "id": "8Wey3OX3bJpV"
      },
      "execution_count": null,
      "outputs": []
    },
    {
      "cell_type": "code",
      "source": [
        "import glob"
      ],
      "metadata": {
        "id": "VZ4m-AGabJme"
      },
      "execution_count": null,
      "outputs": []
    },
    {
      "cell_type": "code",
      "source": [
        "from matplotlib import pyplot as plt\n",
        "import matplotlib.pyplot as plt"
      ],
      "metadata": {
        "id": "p-x8OWAnbJkI"
      },
      "execution_count": null,
      "outputs": []
    },
    {
      "cell_type": "code",
      "source": [
        "import numpy as np\n",
        "from numpy import asarray"
      ],
      "metadata": {
        "id": "Qt4cDRcKbJhg"
      },
      "execution_count": null,
      "outputs": []
    },
    {
      "cell_type": "code",
      "source": [
        "from astropy.io import fits\n",
        "from astropy.io.fits import Header\n",
        "from PIL import Image"
      ],
      "metadata": {
        "id": "U7z3lhbcbJfL"
      },
      "execution_count": null,
      "outputs": []
    },
    {
      "cell_type": "markdown",
      "source": [
        "Create paths where data will be loaded to."
      ],
      "metadata": {
        "id": "NEWr_-RAIIwm"
      }
    },
    {
      "cell_type": "code",
      "source": [
        "if os.path.exists(\"/content/gdrive/MyDrive/ColabNotebooks/Create_FIT_files/frames/\"):\n",
        "    image_path = \"/content/gdrive/MyDrive/ColabNotebooks/Create_FIT_files/frames/\"\n",
        "    print('Directory path already exists')\n",
        "else:\n",
        "    image_path = \"/content/gdrive/MyDrive/ColabNotebooks/Create_FIT_files/frames/\"\n",
        "    os.mkdir(image_path)"
      ],
      "metadata": {
        "colab": {
          "base_uri": "https://localhost:8080/"
        },
        "id": "ypqiYQ0AbJc0",
        "outputId": "64680289-6539-4e9e-e841-ea50ff771e02"
      },
      "execution_count": null,
      "outputs": [
        {
          "output_type": "stream",
          "name": "stdout",
          "text": [
            "Directory path already exists\n"
          ]
        }
      ]
    },
    {
      "cell_type": "code",
      "source": [
        "if os.path.exists(\"/content/gdrive/MyDrive/ColabNotebooks/Create_FIT_files/fits/\"):\n",
        "    fit_path = \"/content/gdrive/MyDrive/ColabNotebooks/Create_FIT_files/fits/\"\n",
        "    print('Directory fit_path already exists')\n",
        "else:\n",
        "    fit_path = \"/content/gdrive/MyDrive/ColabNotebooks/Create_FIT_files/fits/\"\n",
        "    os.mkdir(fit_path)"
      ],
      "metadata": {
        "colab": {
          "base_uri": "https://localhost:8080/"
        },
        "id": "XeWlqJvVbJaO",
        "outputId": "b284a8d5-43d8-49ae-f871-26306b2e362d"
      },
      "execution_count": null,
      "outputs": [
        {
          "output_type": "stream",
          "name": "stdout",
          "text": [
            "Directory fit_path already exists\n"
          ]
        }
      ]
    },
    {
      "cell_type": "markdown",
      "source": [
        "Load you data from the folder where the data is."
      ],
      "metadata": {
        "id": "aeH575KJHuOq"
      }
    },
    {
      "cell_type": "code",
      "source": [
        "import moviepy.editor as mp\n",
        "video_path = '/content/gdrive/MyDrive/ColabNotebooks/Create_FIT_files/2024_05_05_114105_Solar_timelapse.mp4'\n",
        "clip = mp.VideoFileClip(video_path)\n"
      ],
      "metadata": {
        "id": "aa995NAdbJXn"
      },
      "execution_count": null,
      "outputs": []
    },
    {
      "cell_type": "markdown",
      "source": [
        "Run through the video file. writing data to the given paths."
      ],
      "metadata": {
        "id": "utwNjEL6ISXd"
      }
    },
    {
      "cell_type": "code",
      "source": [
        "frame_rate = 1  # number of frames persecond that you require. Adjust as needed\n",
        "path1='/content/gdrive/MyDrive/ColabNotebooks/Create_FIT_files/frames/'\n",
        "for i, frame in enumerate(clip.iter_frames(fps=frame_rate)):\n",
        "    frame_path = f'{path1}frame.jpg'\n",
        "    plt.imshow(frame)\n",
        "    frame = cv2.cvtColor(frame, cv2.COLOR_BGR2RGB)\n",
        "    cv2.imwrite(frame_path,frame)\n",
        "\n",
        "    print(frame_path)\n",
        "    img = Image.open(frame_path)\n",
        "    numpydata3D = asarray(img)\n",
        "\n",
        "    print(numpydata3D.shape)\n",
        "\n",
        "    frame_path = f'{path1}R_numpy_{i}'\n",
        "    np.save(frame_path,numpydata3D[:,:,0])\n",
        "    print(frame_path)\n",
        "\n",
        "    frame_path = f'{path1}G_numpy_{i}'\n",
        "    np.save(frame_path,numpydata3D[:,:,1])\n",
        "    print(frame_path)\n",
        "\n",
        "    frame_path = f'{path1}B_numpy_{i}'\n",
        "    np.save(frame_path,numpydata3D[:,:,2])\n",
        "    print(frame_path)\n",
        "\n",
        "    # Create  the three individual fits files - one for each colour\n",
        "\n",
        "    read_process_write(image_path, fit_path, \"R\", i)\n",
        "    read_process_write(image_path, fit_path, \"G\", i)\n",
        "    read_process_write(image_path, fit_path, \"B\", i)\n",
        "\n",
        "    # Combine the three R, G, B fit files into a 3D fits colour file\n",
        "\n",
        "    create3Dfits(fit_path,i)\n"
      ],
      "metadata": {
        "colab": {
          "base_uri": "https://localhost:8080/",
          "height": 843
        },
        "id": "f_k0x-2ybJUw",
        "outputId": "8660a82a-a15a-4b9c-a168-330672879827"
      },
      "execution_count": null,
      "outputs": [
        {
          "output_type": "stream",
          "name": "stdout",
          "text": [
            "/content/gdrive/MyDrive/ColabNotebooks/Create_FIT_files/frames/frame.jpg\n",
            "(1920, 1080, 3)\n",
            "/content/gdrive/MyDrive/ColabNotebooks/Create_FIT_files/frames/R_numpy_0\n",
            "/content/gdrive/MyDrive/ColabNotebooks/Create_FIT_files/frames/G_numpy_0\n",
            "/content/gdrive/MyDrive/ColabNotebooks/Create_FIT_files/frames/B_numpy_0\n",
            "\n",
            "/content/gdrive/MyDrive/ColabNotebooks/Create_FIT_files/frames/frame.jpg\n",
            "(1920, 1080, 3)\n",
            "/content/gdrive/MyDrive/ColabNotebooks/Create_FIT_files/frames/R_numpy_1\n",
            "/content/gdrive/MyDrive/ColabNotebooks/Create_FIT_files/frames/G_numpy_1\n",
            "/content/gdrive/MyDrive/ColabNotebooks/Create_FIT_files/frames/B_numpy_1\n",
            "\n",
            "/content/gdrive/MyDrive/ColabNotebooks/Create_FIT_files/frames/frame.jpg\n",
            "(1920, 1080, 3)\n",
            "/content/gdrive/MyDrive/ColabNotebooks/Create_FIT_files/frames/R_numpy_2\n",
            "/content/gdrive/MyDrive/ColabNotebooks/Create_FIT_files/frames/G_numpy_2\n",
            "/content/gdrive/MyDrive/ColabNotebooks/Create_FIT_files/frames/B_numpy_2\n",
            "\n",
            "/content/gdrive/MyDrive/ColabNotebooks/Create_FIT_files/frames/frame.jpg\n",
            "(1920, 1080, 3)\n",
            "/content/gdrive/MyDrive/ColabNotebooks/Create_FIT_files/frames/R_numpy_3\n",
            "/content/gdrive/MyDrive/ColabNotebooks/Create_FIT_files/frames/G_numpy_3\n",
            "/content/gdrive/MyDrive/ColabNotebooks/Create_FIT_files/frames/B_numpy_3\n",
            "\n"
          ]
        },
        {
          "output_type": "display_data",
          "data": {
            "text/plain": [
              "<Figure size 640x480 with 1 Axes>"
            ],
            "image/png": "[encoded data removed]"
          },
          "metadata": {}
        }
      ]
    },
    {
      "cell_type": "code",
      "source": [
        "def read_process_write(image_path, fit_path, label, i):\n",
        "\n",
        "  filename_input = f'{image_path}{label}_numpy_{i}.npy'\n",
        "  npydata = np.load(filename_input)\n",
        "\n",
        "  # Create a Primary HDU object with RGB data\n",
        "  hdu = fits.PrimaryHDU(npydata)\n",
        "\n",
        "  # Add headers to the Primary HDU\n",
        "  hdr = hdu.header\n",
        "  hdr['OBJECT']   = 'Test Object'          # Name of the object observed\n",
        "  hdr['TELESCOP'] = 'Test Telescope'       # Telescope used\n",
        "  hdr['INSTRUME'] = 'Test Instrument'      # Instrument (camera) used\n",
        "  hdr['OBSERVER'] = 'Test Observer'        # Observer's name\n",
        "  hdr['DATE-OBS'] = '2024-05-31T12:00:00'  # Observation date in ISO format\n",
        "  hdr['EXPTIME']  = 60.0                   # Exposure time in seconds\n",
        "  hdr['FILTER']   = 'RGB'                  # Filter used\n",
        "\n",
        "  # Write HDU to a .fits file\n",
        "  filename_output = f'{fit_path}{label}_numpydata_{i}.fits'\n",
        "  hdu.writeto(filename_output, overwrite=True)"
      ],
      "metadata": {
        "id": "lHqUD0p5bim-"
      },
      "execution_count": null,
      "outputs": []
    },
    {
      "cell_type": "code",
      "source": [
        "# cube = np.zeros((3,1920,1080))  # 3 represents the three colours (RGB) whilst 1920 & 1080 are the 2D dimensions of the individual RGB fits images\n",
        "# def create3Dfits(fit_path,i):\n",
        "#   for label in ['R','G','B']:\n",
        "#     filename_output = f'{fit_path}{label}_numpydata_{i}.fits'\n",
        "#     hdu = fits.open(filename_output) #takes the 2D fits images that you want to combine\n",
        "#     data = hdu[0].data[:,:]\n",
        "#     cube[i,:,:] = data   #This CANNOT be i in the head loop which could be gt 3. But here  it will be eithe 0, 1 or 2\n",
        "\n",
        "#   hdu_new = fits.PrimaryHDU(cube)\n",
        "#   hdu_new.writeto(f'{fit_path}cube_{i}.fits', overwrite=True)\n",
        "#   print()\n"
      ],
      "metadata": {
        "id": "AxZ2GP86bikX"
      },
      "execution_count": null,
      "outputs": []
    },
    {
      "cell_type": "code",
      "source": [
        "cube = np.zeros((3,1920,1080))  # 3 represents the three colours (RGB) whilst 1920 & 1080 are the 2D pixel dimensions of the individual RGB fits images\n",
        "def create3Dfits(fit_path,i):\n",
        "  for label in ['R','G','B']:\n",
        "    filename_output = f'{fit_path}{label}_numpydata_{i}.fits'\n",
        "    hdu = fits.open(filename_output) #takes the 2D fits images that you want to combine\n",
        "    data = hdu[0].data[:,:]\n",
        "    # if label == 'R':\n",
        "    #   x = 0\n",
        "    # elif label == 'G':\n",
        "    #   x = 1\n",
        "    # else:\n",
        "    #   x = 2\n",
        "    x = 0 if label == 'R' else 1 if label == 'G' else 2\n",
        "\n",
        "    cube[x,:,:] = data   #This CANNOT be i in the head loop which could be gt 3. But here it will be either 0, 1 or 2\n",
        "\n",
        "  hdu_new = fits.PrimaryHDU(cube)\n",
        "  hdu_new.writeto(f'{fit_path}cube_{i}.fits', overwrite=True)\n",
        "  print()"
      ],
      "metadata": {
        "id": "p78Xpj9Xbihg"
      },
      "execution_count": null,
      "outputs": []
    },
    {
      "cell_type": "code",
      "source": [],
      "metadata": {
        "id": "dK-X2hMCB7B2"
      },
      "execution_count": null,
      "outputs": []
    }
  ]
}